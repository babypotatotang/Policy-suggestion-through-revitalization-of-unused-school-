{
  "nbformat": 4,
  "nbformat_minor": 0,
  "metadata": {
    "colab": {
      "name": "Crawling_SeniorCitizen.ipynb",
      "private_outputs": true,
      "provenance": [],
      "authorship_tag": "ABX9TyNrqv5Fr3Q/YQ42vWruyVlW",
      "include_colab_link": true
    },
    "kernelspec": {
      "name": "python3",
      "display_name": "Python 3"
    },
    "language_info": {
      "name": "python"
    }
  },
  "cells": [
    {
      "cell_type": "markdown",
      "metadata": {
        "id": "view-in-github",
        "colab_type": "text"
      },
      "source": [
        "<a href=\"https://colab.research.google.com/github/babypotatotang/PolicySuggestion-through-RevitalizationUnusedSchool/blob/main/Data%20Crawling/Crawling_SeniorCenter.ipynb\" target=\"_parent\"><img src=\"https://colab.research.google.com/assets/colab-badge.svg\" alt=\"Open In Colab\"/></a>"
      ]
    },
    {
      "cell_type": "code",
      "execution_count": null,
      "metadata": {
        "id": "C4ZOxgr_xEdD"
      },
      "outputs": [],
      "source": [
        "import requests\n",
        "import lxml.html\n",
        "import os\n",
        "import pandas as pd\n",
        "from bs4 import BeautifulSoup\n",
        "pages=[] \n",
        "pages.append('https://www.knoldman.or.kr/bbs/board.php?bo_table=05_01&swr_1=&swr_2=&page=1') \n",
        "#첫 페이지\n",
        "page_num=1\n",
        "urls=[] #세부 페이지 url\n",
        "\n",
        "session=requests.Session() #여러 페이지 크롤링 시 사용\n",
        "response = session.get(pages[0]) \n",
        "root = lxml.html.fromstring(response.content)\n",
        "\n",
        "for j in range(497):\n",
        "    pages.append('https://www.knoldman.or.kr/bbs/board.php?bo_table=05_01&page={}'.format(page_num+j+1))\n",
        "    \n",
        "for i, page in enumerate(pages):\n",
        "    response = session.get(pages[i])\n",
        "    root = lxml.html.fromstring(response.content)\n",
        "    \n",
        "    #목록 주소 크롤링\n",
        "    for li in root.xpath('//*[@id=\"fboardlist\"]/div/table/tbody/tr'):\n",
        "        a = li.xpath('td[2]/a')[0]\n",
        "        url = a.get('href') #->url\n",
        "        urls.append(url)\n",
        "        \n",
        "#세부페이지 크롤링 \n",
        "name=[]\n",
        "address=[]\n",
        "for url in urls:\n",
        "    response = session.get(url)\n",
        "    soup=BeautifulSoup(response.content, 'html.parser')\n",
        "    \n",
        "    list = soup.find_all('div', id ='bo_v_con')[0]\n",
        "    find=list.table.tbody.find_all('td')\n",
        "\n",
        "    address.append(list.table.tbody.find_all('td')[5].string)\n",
        "    name.append(find[1].string)\n",
        "    \n",
        "senior=pd.DataFrame({\n",
        " 'senior center': name,\n",
        " 'address' : address\n",
        " })\n",
        "senior.to_csv('senior_centor.csv', encoding='utf-8-sig')"
      ]
    }
  ]
}