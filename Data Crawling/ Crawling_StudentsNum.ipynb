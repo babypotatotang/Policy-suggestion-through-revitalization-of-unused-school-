{
  "nbformat": 4,
  "nbformat_minor": 0,
  "metadata": {
    "colab": {
      "name": "Crawling_StudentsNum.ipynb",
      "private_outputs": true,
      "provenance": [],
      "authorship_tag": "ABX9TyPI+GJHcX6lcaHGGvfPA14b",
      "include_colab_link": true
    },
    "kernelspec": {
      "name": "python3",
      "display_name": "Python 3"
    },
    "language_info": {
      "name": "python"
    }
  },
  "cells": [
    {
      "cell_type": "markdown",
      "metadata": {
        "id": "view-in-github",
        "colab_type": "text"
      },
      "source": [
        "<a href=\"https://colab.research.google.com/github/babypotatotang/PolicySuggestion-through-RevitalizationUnusedSchool/blob/main/Data%20Crawling/%20Crawling_StudentsNum.ipynb\" target=\"_parent\"><img src=\"https://colab.research.google.com/assets/colab-badge.svg\" alt=\"Open In Colab\"/></a>"
      ]
    },
    {
      "cell_type": "code",
      "execution_count": null,
      "metadata": {
        "id": "C4ZOxgr_xEdD"
      },
      "outputs": [],
      "source": [
        "from selenium import webdriver\n",
        "from selenium.webdriver.remote.webelement import WebElement\n",
        "from selenium.webdriver.common.keys import Keys\n",
        "from selenium.webdriver import ActionChains\n",
        "\n",
        "from selenium.webdriver.support.select import Select\n",
        "\n",
        "from time import sleep\n",
        "import csv"
      ]
    },
    {
      "cell_type": "code",
      "source": [
        "def write_csv(name,num,adr):\n",
        "    with open('element.csv','a',newline='') as f:\n",
        "        field=[]\n",
        "        wr = csv.writer(f)\n",
        "        \n",
        "        field.append(name)\n",
        "        field.append(num)\n",
        "        field.append(adr)\n",
        "        \n",
        "        wr.writerow(field)"
      ],
      "metadata": {
        "id": "rEJAWbj-xAsa"
      },
      "execution_count": null,
      "outputs": []
    },
    {
      "cell_type": "code",
      "source": [
        "fields=['학교이름','학생수','주소']\n",
        "\n",
        "with open('element.csv','a',newline='') as f:\n",
        "    wr = csv.writer(f)\n",
        "    wr.writerow(fields)\n",
        "\n",
        "url='http://eduinfo.go.kr/portal/theme/schNmlStatusPage.do'\n",
        "\n",
        "options=webdriver.ChromeOptions()\n",
        "options.add_argument(\"--start-maximized\")\n",
        "\n",
        "browser=webdriver.Chrome('chromedriver',options=options)\n",
        "browser.get(url) #해당 브라우저 열기\n",
        "browser.execute_script(\"window.scrollTo(0, 500)\")\n",
        "\n",
        "#경남 선택\n",
        "select=Select(browser.find_element_by_id(\"eduOffcDivCd\"))\n",
        "select.select_by_value(\"S10\") \n",
        "\n",
        "#학교 선택 \n",
        "select=Select(browser.find_element_by_id(\"schlKndCd\"))\n",
        "select.select_by_value(\"H\") #고등\n",
        "num=191\n",
        "idx=1\n",
        "print(type(num))\n",
        "\n",
        "#검색 클릭\n",
        "search=browser.find_element_by_xpath('//*[@id=\"search_btn\"]').click()\n",
        "sleep(8)"
      ],
      "metadata": {
        "id": "4Xho_z3sw5Ll"
      },
      "execution_count": null,
      "outputs": []
    },
    {
      "cell_type": "code",
      "source": [
        "while idx < num:\n",
        "    idx2=idx\n",
        "\n",
        "    list=browser.find_element_by_xpath('//*[@id=\"schList\"]/li[{}]/a/em'.format(idx2))\n",
        "    list.click()\n",
        "    \n",
        "    school_name=list.text #학교 이름\n",
        "\n",
        "    browser.execute_script(\"window.scrollTo(0, 1100)\")\n",
        "    \n",
        "    tr=browser.find_element_by_xpath(\"//*[@id='tableSchulRdnma']\")\n",
        "    address=tr.text\n",
        "    print(address)\n",
        "        \n",
        "    browser.execute_script(\"window.scrollTo(0, 1900)\")\n",
        "    sleep(5)\n",
        "\n",
        "    tr=browser.find_element_by_xpath(\"//*[@id='sheetTable']/tbody/tr[2]\")\n",
        "    td = tr.find_elements_by_tag_name(\"td\")\n",
        "    student_num = \"{}\\n\".format(td[8].text) #학생 수\n",
        "    \n",
        "    print(\"{}, {}, {}\\n\".format(school_name,student_num,address))   \n",
        "    write_csv(school_name,student_num,address)\n",
        "    print(\"{}건 입력 완료\".format(idx2))\n",
        "    \n",
        "    idx=idx+1\n",
        "    sleep(5)\n",
        "    browser.execute_script(\"window.scrollTo(0, 500)\")"
      ],
      "metadata": {
        "id": "vRnB98oRw-9z"
      },
      "execution_count": null,
      "outputs": []
    }
  ]
}