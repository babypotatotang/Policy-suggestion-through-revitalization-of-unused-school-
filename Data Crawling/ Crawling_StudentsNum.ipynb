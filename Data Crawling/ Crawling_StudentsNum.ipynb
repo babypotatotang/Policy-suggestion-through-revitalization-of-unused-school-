{
  "nbformat": 4,
  "nbformat_minor": 0,
  "metadata": {
    "colab": {
      "name": "Crawling_StudentsNum.ipynb",
      "private_outputs": true,
      "provenance": [],
      "authorship_tag": "ABX9TyNl6+fx27nVuphhUyAqtwua",
      "include_colab_link": true
    },
    "kernelspec": {
      "name": "python3",
      "display_name": "Python 3"
    },
    "language_info": {
      "name": "python"
    }
  },
  "cells": [
    {
      "cell_type": "markdown",
      "metadata": {
        "id": "view-in-github",
        "colab_type": "text"
      },
      "source": [
        "<a href=\"https://colab.research.google.com/github/babypotatotang/PolicySuggestion-through-RevitalizationUnusedSchool/blob/main/Data%20Crawling/%20Crawling_StudentsNum.ipynb\" target=\"_parent\"><img src=\"https://colab.research.google.com/assets/colab-badge.svg\" alt=\"Open In Colab\"/></a>"
      ]
    },
    {
      "cell_type": "code",
      "execution_count": null,
      "metadata": {
        "id": "C4ZOxgr_xEdD"
      },
      "outputs": [],
      "source": [
        "from bs4 import BeautifulSoup \n",
        "import requests\n",
        "import re\n",
        "import os\n",
        "import sys\n",
        "import json\n",
        "from urllib.parse import quote\n",
        "import urllib.request"
      ]
    },
    {
      "cell_type": "code",
      "source": [
        "def delete_iframe(post):\n",
        "    headers = {\"User-Agent\":\"Mozilla/5.0 (Windows NT 10.0; Win64; x64) AppleWebKit/537.36 \n",
        "    (KHTML, like Gecko) Chrome/90.0.4430.93 Safari/537.36\"}\n",
        "    content_code =requests .get(post,headers =headers)\n",
        "    content_soup = BeautifulSoup(content_code .text, 'lxml')\n",
        "    real_url =\"https://blog.naver.com/\"+ content_soup .iframe[\"src\"]\n",
        "    \n",
        "    return real_url"
      ],
      "metadata": {
        "id": "SvEd8k4kyciF"
      },
      "execution_count": null,
      "outputs": []
    },
    {
      "cell_type": "code",
      "source": [
        "def crawling(url):\n",
        "    url =delete_iframe(url)\n",
        "    \n",
        "    content_code =requests .get(url)\n",
        "    content_soup = BeautifulSoup(content_code .text, 'lxml')\n",
        "    \n",
        "    if content_soup .find(\"div\", attrs ={\"class\":\"se-main-container\"}):\n",
        "        text = content_soup .find(\"div\", attrs ={\"class\":\"se-main-container\"}).get_text()\n",
        "    elif content_soup .find(\"div\", attrs ={\"id\":\"postViewArea\"}):\n",
        "        text = content_soup .find(\"div\", attrs ={\"id\":\"postViewArea\"}).get_text()\n",
        "    \n",
        "    return text"
      ],
      "metadata": {
        "id": "MwEWIB2yydrl"
      },
      "execution_count": null,
      "outputs": []
    },
    {
      "cell_type": "code",
      "source": [
        "def call(keyword,display,start):\n",
        "    #api 키\n",
        "    client_id =\"wGs_lJbJwLwpjr4XNWnz\"\n",
        "    client_secret =\"j71ZKDKdEc\"\n",
        "    url =\"https://openapi.naver.com/v1/search/blog?query={}&display={}&start={}\".format(keyword,display,str(start))\n",
        "    request = urllib .request .Request(url)\n",
        "    request.add_header(\"X-Naver-Client-Id\",client_id)\n",
        "    request.add_header(\"X-Naver-Client-Secret\",client_secret)\n",
        "\n",
        "    response = urllib .request .urlopen(request)\n",
        "    response_body =response .read()\n",
        "    \n",
        "    result =response_body .decode('utf-8')\n",
        "    jsonresult =json .loads(result)\n",
        "    return jsonresult"
      ],
      "metadata": {
        "id": "jbBN-CiPyhKl"
      },
      "execution_count": null,
      "outputs": []
    },
    {
      "cell_type": "code",
      "source": [
        "if __name__==\"__main__\":\n",
        "    #기본 설정\n",
        "    keyword =quote(\"도서관\")\n",
        "    display =100\n",
        "    \n",
        "    texts =[] #리스트형\n",
        "    file =open('content_0to5.txt','a',encoding ='utf-8')\n",
        "    \n",
        "    for num in range(0,5):\n",
        "        count =0\n",
        "        jsonresult =call(keyword,display, num *9 +1)\n",
        "\n",
        "        for i in jsonresult['items']:\n",
        "            url =i['link']\n",
        "            ck_blog =re .compile('blog.naver.com')\n",
        "            ck_blog =ck_blog .search(url)\n",
        "        \n",
        "            if ck_blog:\n",
        "                text =crawling(url)\n",
        "                texts .append(text)\n",
        "                final_text =\"\".join(text)\n",
        "                file .write(final_text)\n",
        "                count =count + 1\n",
        "\n",
        "            else:\n",
        "                print('no more')"
      ],
      "metadata": {
        "id": "b1HMoPpxytG7"
      },
      "execution_count": null,
      "outputs": []
    }
  ]
}